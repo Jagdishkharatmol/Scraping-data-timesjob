{
  "nbformat": 4,
  "nbformat_minor": 0,
  "metadata": {
    "colab": {
      "provenance": []
    },
    "kernelspec": {
      "name": "python3",
      "display_name": "Python 3"
    },
    "language_info": {
      "name": "python"
    }
  },
  "cells": [
    {
      "cell_type": "code",
      "execution_count": 2,
      "metadata": {
        "id": "hGBcoG7O_ab8"
      },
      "outputs": [],
      "source": [
        "from bs4 import BeautifulSoup\n",
        "import requests"
      ]
    },
    {
      "cell_type": "markdown",
      "source": [
        "### **Testing for single row of data**"
      ],
      "metadata": {
        "id": "i0dhB7j9NVK-"
      }
    },
    {
      "cell_type": "code",
      "source": [
        "url=\"https://www.timesjobs.com/candidate/job-search.html?searchType=personalizedSearch&from=submit&txtKeywords=python&txtLocation=\"\n",
        "html_content=requests.get(url).text\n",
        "soup=BeautifulSoup(html_content,'lxml')\n",
        "job=soup.find('li', class_=\"clearfix job-bx wht-shd-bx\")"
      ],
      "metadata": {
        "id": "S2S-27YqASVA"
      },
      "execution_count": 7,
      "outputs": []
    },
    {
      "cell_type": "code",
      "source": [
        "comp_name=job.find('h3',class_=\"joblist-comp-name\").text.replace(\" \",\"\")\n",
        "print(comp_name)"
      ],
      "metadata": {
        "colab": {
          "base_uri": "https://localhost:8080/"
        },
        "id": "jh1TI3LJCNEn",
        "outputId": "c366ebc2-3917-4cb4-9494-6c32c0989fdf"
      },
      "execution_count": 14,
      "outputs": [
        {
          "output_type": "stream",
          "name": "stdout",
          "text": [
            "\r\n",
            "PureTechCodexPrivateLimited\r\n",
            "\r\n",
            "\n"
          ]
        }
      ]
    },
    {
      "cell_type": "code",
      "source": [
        "skills=job.find('span',class_=\"srp-skills\").text\n",
        "print(skills)"
      ],
      "metadata": {
        "colab": {
          "base_uri": "https://localhost:8080/"
        },
        "id": "OYRghpXWDTKU",
        "outputId": "7535cc12-a85b-43c1-aac6-6dc8e95b5f3f"
      },
      "execution_count": 21,
      "outputs": [
        {
          "output_type": "stream",
          "name": "stdout",
          "text": [
            "\r\n",
            "      \r\n",
            "          rest  ,  python  ,  database  ,  django  ,  debugging  ,  mongodb\r\n",
            "        \r\n",
            "      \n"
          ]
        }
      ]
    },
    {
      "cell_type": "code",
      "source": [
        "time=job.find('span',class_=\"sim-posted\").span.text\n",
        "print(time)"
      ],
      "metadata": {
        "colab": {
          "base_uri": "https://localhost:8080/"
        },
        "id": "lqoRdKF2ElkO",
        "outputId": "e10e4408-e6c9-4be3-d7a8-37b9f3a2ccfe"
      },
      "execution_count": 23,
      "outputs": [
        {
          "output_type": "stream",
          "name": "stdout",
          "text": [
            "Posted few days ago\n"
          ]
        }
      ]
    },
    {
      "cell_type": "markdown",
      "source": [
        "### **Scaling for all the records**"
      ],
      "metadata": {
        "id": "7KKQBL0yNbiG"
      }
    },
    {
      "cell_type": "code",
      "source": [
        "company_name=[]\n",
        "job_skills=[]\n",
        "experience=[]\n",
        "job_role=[]\n",
        "more_info_job=[]\n",
        "\n",
        "for i in range(1,20):\n",
        "  url=\"https://www.timesjobs.com/candidate/job-search.html?from=submit&actualTxtKeywords=python&searchBy=0&rdoOperator=OR&searchType=personalizedSearch&luceneResultSize=25&postWeek=60&txtKeywords=python&pDate=I&sequence=3&startPage=\"+str(i)\n",
        "  html_content=requests.get(url).text\n",
        "  soup=BeautifulSoup(html_content,'lxml')\n",
        "  jobs=soup.find_all('li', class_=\"clearfix job-bx wht-shd-bx\")\n",
        "  for job in jobs:\n",
        "    time=job.find('span',class_=\"sim-posted\").span.text.strip()\n",
        "    if 'few' in time: \n",
        "        comp_name=job.find('h3',class_=\"joblist-comp-name\").text.strip()\n",
        "        skills=job.find('span',class_=\"srp-skills\").text.strip()\n",
        "        exp=job.find('ul',class_=\"top-jd-dtl clearfix\").li.text.strip()\n",
        "        if 'card_travel' in exp:\n",
        "          exp=exp.replace('card_travel',\"\")\n",
        "        role=job.header.h2.a.text.strip()\n",
        "        more_info=job.header.h2.a['href']\n",
        "        company_name.append(comp_name),job_skills.append(skills),experience.append(exp),job_role.append(role),more_info_job.append(more_info)"
      ],
      "metadata": {
        "id": "bGQcF5RLFcUs"
      },
      "execution_count": 51,
      "outputs": []
    },
    {
      "cell_type": "markdown",
      "source": [
        "###**Storing the data in excel file**"
      ],
      "metadata": {
        "id": "u1f6AOPARSxe"
      }
    },
    {
      "cell_type": "code",
      "source": [
        "import pandas as pd"
      ],
      "metadata": {
        "id": "UGlw6VHiG_-Y"
      },
      "execution_count": 53,
      "outputs": []
    },
    {
      "cell_type": "code",
      "source": [
        "df=pd.DataFrame(data=zip(company_name,job_role,job_skills,experience,more_info_job),columns=['Company Name','Role',\"Skills\",'Experience','Job Description Link'])"
      ],
      "metadata": {
        "id": "3AlMlbsdRiH-"
      },
      "execution_count": 54,
      "outputs": []
    },
    {
      "cell_type": "code",
      "source": [
        "df.head()"
      ],
      "metadata": {
        "colab": {
          "base_uri": "https://localhost:8080/",
          "height": 206
        },
        "id": "Mg1YSciMS1id",
        "outputId": "89a5791f-e9f5-4f7d-9b42-6730c48528fb"
      },
      "execution_count": 55,
      "outputs": [
        {
          "output_type": "execute_result",
          "data": {
            "text/plain": [
              "                                 Company Name              Role  \\\n",
              "0              Doodleblue Innovations Pvt Ltd  Python Developer   \n",
              "1                              AxisTechnolabs  Python Developer   \n",
              "2  pegasus knowledge solutions india pvt ltd.  Python Developer   \n",
              "3                           Techasoft Pvt Ltd  Python Developer   \n",
              "4                tarams software technologies  Python Developer   \n",
              "\n",
              "                                              Skills Experience  \\\n",
              "0  python  ,  database  ,  django  ,  git  ,  htm...  0 - 3 yrs   \n",
              "1  python  ,  css  ,  user interaction  ,  bootst...  0 - 1 yrs   \n",
              "2  python  ,  css  ,  django  ,  java  ,  html  ,...  0 - 3 yrs   \n",
              "3  python  ,  javascript  ,  docker  ,  django  ,...  0 - 3 yrs   \n",
              "4  python  ,  rdbms  ,  web based applications  ,...  4 - 7 yrs   \n",
              "\n",
              "                                Job Description Link  \n",
              "0  https://www.timesjobs.com/job-detail/python-de...  \n",
              "1  https://www.timesjobs.com/job-detail/python-de...  \n",
              "2  https://www.timesjobs.com/job-detail/python-de...  \n",
              "3  https://www.timesjobs.com/job-detail/python-de...  \n",
              "4  https://www.timesjobs.com/job-detail/python-de...  "
            ],
            "text/html": [
              "\n",
              "  <div id=\"df-67cebf8e-98e4-4d2e-9b0b-b9a6cd4b3dfb\">\n",
              "    <div class=\"colab-df-container\">\n",
              "      <div>\n",
              "<style scoped>\n",
              "    .dataframe tbody tr th:only-of-type {\n",
              "        vertical-align: middle;\n",
              "    }\n",
              "\n",
              "    .dataframe tbody tr th {\n",
              "        vertical-align: top;\n",
              "    }\n",
              "\n",
              "    .dataframe thead th {\n",
              "        text-align: right;\n",
              "    }\n",
              "</style>\n",
              "<table border=\"1\" class=\"dataframe\">\n",
              "  <thead>\n",
              "    <tr style=\"text-align: right;\">\n",
              "      <th></th>\n",
              "      <th>Company Name</th>\n",
              "      <th>Role</th>\n",
              "      <th>Skills</th>\n",
              "      <th>Experience</th>\n",
              "      <th>Job Description Link</th>\n",
              "    </tr>\n",
              "  </thead>\n",
              "  <tbody>\n",
              "    <tr>\n",
              "      <th>0</th>\n",
              "      <td>Doodleblue Innovations Pvt Ltd</td>\n",
              "      <td>Python Developer</td>\n",
              "      <td>python  ,  database  ,  django  ,  git  ,  htm...</td>\n",
              "      <td>0 - 3 yrs</td>\n",
              "      <td>https://www.timesjobs.com/job-detail/python-de...</td>\n",
              "    </tr>\n",
              "    <tr>\n",
              "      <th>1</th>\n",
              "      <td>AxisTechnolabs</td>\n",
              "      <td>Python Developer</td>\n",
              "      <td>python  ,  css  ,  user interaction  ,  bootst...</td>\n",
              "      <td>0 - 1 yrs</td>\n",
              "      <td>https://www.timesjobs.com/job-detail/python-de...</td>\n",
              "    </tr>\n",
              "    <tr>\n",
              "      <th>2</th>\n",
              "      <td>pegasus knowledge solutions india pvt ltd.</td>\n",
              "      <td>Python Developer</td>\n",
              "      <td>python  ,  css  ,  django  ,  java  ,  html  ,...</td>\n",
              "      <td>0 - 3 yrs</td>\n",
              "      <td>https://www.timesjobs.com/job-detail/python-de...</td>\n",
              "    </tr>\n",
              "    <tr>\n",
              "      <th>3</th>\n",
              "      <td>Techasoft Pvt Ltd</td>\n",
              "      <td>Python Developer</td>\n",
              "      <td>python  ,  javascript  ,  docker  ,  django  ,...</td>\n",
              "      <td>0 - 3 yrs</td>\n",
              "      <td>https://www.timesjobs.com/job-detail/python-de...</td>\n",
              "    </tr>\n",
              "    <tr>\n",
              "      <th>4</th>\n",
              "      <td>tarams software technologies</td>\n",
              "      <td>Python Developer</td>\n",
              "      <td>python  ,  rdbms  ,  web based applications  ,...</td>\n",
              "      <td>4 - 7 yrs</td>\n",
              "      <td>https://www.timesjobs.com/job-detail/python-de...</td>\n",
              "    </tr>\n",
              "  </tbody>\n",
              "</table>\n",
              "</div>\n",
              "      <button class=\"colab-df-convert\" onclick=\"convertToInteractive('df-67cebf8e-98e4-4d2e-9b0b-b9a6cd4b3dfb')\"\n",
              "              title=\"Convert this dataframe to an interactive table.\"\n",
              "              style=\"display:none;\">\n",
              "        \n",
              "  <svg xmlns=\"http://www.w3.org/2000/svg\" height=\"24px\"viewBox=\"0 0 24 24\"\n",
              "       width=\"24px\">\n",
              "    <path d=\"M0 0h24v24H0V0z\" fill=\"none\"/>\n",
              "    <path d=\"M18.56 5.44l.94 2.06.94-2.06 2.06-.94-2.06-.94-.94-2.06-.94 2.06-2.06.94zm-11 1L8.5 8.5l.94-2.06 2.06-.94-2.06-.94L8.5 2.5l-.94 2.06-2.06.94zm10 10l.94 2.06.94-2.06 2.06-.94-2.06-.94-.94-2.06-.94 2.06-2.06.94z\"/><path d=\"M17.41 7.96l-1.37-1.37c-.4-.4-.92-.59-1.43-.59-.52 0-1.04.2-1.43.59L10.3 9.45l-7.72 7.72c-.78.78-.78 2.05 0 2.83L4 21.41c.39.39.9.59 1.41.59.51 0 1.02-.2 1.41-.59l7.78-7.78 2.81-2.81c.8-.78.8-2.07 0-2.86zM5.41 20L4 18.59l7.72-7.72 1.47 1.35L5.41 20z\"/>\n",
              "  </svg>\n",
              "      </button>\n",
              "      \n",
              "  <style>\n",
              "    .colab-df-container {\n",
              "      display:flex;\n",
              "      flex-wrap:wrap;\n",
              "      gap: 12px;\n",
              "    }\n",
              "\n",
              "    .colab-df-convert {\n",
              "      background-color: #E8F0FE;\n",
              "      border: none;\n",
              "      border-radius: 50%;\n",
              "      cursor: pointer;\n",
              "      display: none;\n",
              "      fill: #1967D2;\n",
              "      height: 32px;\n",
              "      padding: 0 0 0 0;\n",
              "      width: 32px;\n",
              "    }\n",
              "\n",
              "    .colab-df-convert:hover {\n",
              "      background-color: #E2EBFA;\n",
              "      box-shadow: 0px 1px 2px rgba(60, 64, 67, 0.3), 0px 1px 3px 1px rgba(60, 64, 67, 0.15);\n",
              "      fill: #174EA6;\n",
              "    }\n",
              "\n",
              "    [theme=dark] .colab-df-convert {\n",
              "      background-color: #3B4455;\n",
              "      fill: #D2E3FC;\n",
              "    }\n",
              "\n",
              "    [theme=dark] .colab-df-convert:hover {\n",
              "      background-color: #434B5C;\n",
              "      box-shadow: 0px 1px 3px 1px rgba(0, 0, 0, 0.15);\n",
              "      filter: drop-shadow(0px 1px 2px rgba(0, 0, 0, 0.3));\n",
              "      fill: #FFFFFF;\n",
              "    }\n",
              "  </style>\n",
              "\n",
              "      <script>\n",
              "        const buttonEl =\n",
              "          document.querySelector('#df-67cebf8e-98e4-4d2e-9b0b-b9a6cd4b3dfb button.colab-df-convert');\n",
              "        buttonEl.style.display =\n",
              "          google.colab.kernel.accessAllowed ? 'block' : 'none';\n",
              "\n",
              "        async function convertToInteractive(key) {\n",
              "          const element = document.querySelector('#df-67cebf8e-98e4-4d2e-9b0b-b9a6cd4b3dfb');\n",
              "          const dataTable =\n",
              "            await google.colab.kernel.invokeFunction('convertToInteractive',\n",
              "                                                     [key], {});\n",
              "          if (!dataTable) return;\n",
              "\n",
              "          const docLinkHtml = 'Like what you see? Visit the ' +\n",
              "            '<a target=\"_blank\" href=https://colab.research.google.com/notebooks/data_table.ipynb>data table notebook</a>'\n",
              "            + ' to learn more about interactive tables.';\n",
              "          element.innerHTML = '';\n",
              "          dataTable['output_type'] = 'display_data';\n",
              "          await google.colab.output.renderOutput(dataTable, element);\n",
              "          const docLink = document.createElement('div');\n",
              "          docLink.innerHTML = docLinkHtml;\n",
              "          element.appendChild(docLink);\n",
              "        }\n",
              "      </script>\n",
              "    </div>\n",
              "  </div>\n",
              "  "
            ]
          },
          "metadata": {},
          "execution_count": 55
        }
      ]
    },
    {
      "cell_type": "markdown",
      "source": [
        "### **Knowing the data**"
      ],
      "metadata": {
        "id": "tIQyXBq2TXWl"
      }
    },
    {
      "cell_type": "code",
      "source": [
        "df.describe()"
      ],
      "metadata": {
        "colab": {
          "base_uri": "https://localhost:8080/",
          "height": 175
        },
        "id": "qdtaCNBKS3BN",
        "outputId": "e83f14c3-4369-4fc2-fc1c-b127bbfcd108"
      },
      "execution_count": 56,
      "outputs": [
        {
          "output_type": "execute_result",
          "data": {
            "text/plain": [
              "                         Company Name              Role  \\\n",
              "count                             380               380   \n",
              "unique                             16                 4   \n",
              "top     APPLYCUP HIRING SOLUTIONS LLP  Python Developer   \n",
              "freq                               76               323   \n",
              "\n",
              "                                                   Skills Experience  \\\n",
              "count                                                 380        380   \n",
              "unique                                                 20         11   \n",
              "top     python  ,  database  ,  django  ,  git  ,  htm...  0 - 3 yrs   \n",
              "freq                                                   19        114   \n",
              "\n",
              "                                     Job Description Link  \n",
              "count                                                 380  \n",
              "unique                                                 20  \n",
              "top     https://www.timesjobs.com/job-detail/python-de...  \n",
              "freq                                                   19  "
            ],
            "text/html": [
              "\n",
              "  <div id=\"df-6c771218-12e5-4227-9ea0-03a731d11a8b\">\n",
              "    <div class=\"colab-df-container\">\n",
              "      <div>\n",
              "<style scoped>\n",
              "    .dataframe tbody tr th:only-of-type {\n",
              "        vertical-align: middle;\n",
              "    }\n",
              "\n",
              "    .dataframe tbody tr th {\n",
              "        vertical-align: top;\n",
              "    }\n",
              "\n",
              "    .dataframe thead th {\n",
              "        text-align: right;\n",
              "    }\n",
              "</style>\n",
              "<table border=\"1\" class=\"dataframe\">\n",
              "  <thead>\n",
              "    <tr style=\"text-align: right;\">\n",
              "      <th></th>\n",
              "      <th>Company Name</th>\n",
              "      <th>Role</th>\n",
              "      <th>Skills</th>\n",
              "      <th>Experience</th>\n",
              "      <th>Job Description Link</th>\n",
              "    </tr>\n",
              "  </thead>\n",
              "  <tbody>\n",
              "    <tr>\n",
              "      <th>count</th>\n",
              "      <td>380</td>\n",
              "      <td>380</td>\n",
              "      <td>380</td>\n",
              "      <td>380</td>\n",
              "      <td>380</td>\n",
              "    </tr>\n",
              "    <tr>\n",
              "      <th>unique</th>\n",
              "      <td>16</td>\n",
              "      <td>4</td>\n",
              "      <td>20</td>\n",
              "      <td>11</td>\n",
              "      <td>20</td>\n",
              "    </tr>\n",
              "    <tr>\n",
              "      <th>top</th>\n",
              "      <td>APPLYCUP HIRING SOLUTIONS LLP</td>\n",
              "      <td>Python Developer</td>\n",
              "      <td>python  ,  database  ,  django  ,  git  ,  htm...</td>\n",
              "      <td>0 - 3 yrs</td>\n",
              "      <td>https://www.timesjobs.com/job-detail/python-de...</td>\n",
              "    </tr>\n",
              "    <tr>\n",
              "      <th>freq</th>\n",
              "      <td>76</td>\n",
              "      <td>323</td>\n",
              "      <td>19</td>\n",
              "      <td>114</td>\n",
              "      <td>19</td>\n",
              "    </tr>\n",
              "  </tbody>\n",
              "</table>\n",
              "</div>\n",
              "      <button class=\"colab-df-convert\" onclick=\"convertToInteractive('df-6c771218-12e5-4227-9ea0-03a731d11a8b')\"\n",
              "              title=\"Convert this dataframe to an interactive table.\"\n",
              "              style=\"display:none;\">\n",
              "        \n",
              "  <svg xmlns=\"http://www.w3.org/2000/svg\" height=\"24px\"viewBox=\"0 0 24 24\"\n",
              "       width=\"24px\">\n",
              "    <path d=\"M0 0h24v24H0V0z\" fill=\"none\"/>\n",
              "    <path d=\"M18.56 5.44l.94 2.06.94-2.06 2.06-.94-2.06-.94-.94-2.06-.94 2.06-2.06.94zm-11 1L8.5 8.5l.94-2.06 2.06-.94-2.06-.94L8.5 2.5l-.94 2.06-2.06.94zm10 10l.94 2.06.94-2.06 2.06-.94-2.06-.94-.94-2.06-.94 2.06-2.06.94z\"/><path d=\"M17.41 7.96l-1.37-1.37c-.4-.4-.92-.59-1.43-.59-.52 0-1.04.2-1.43.59L10.3 9.45l-7.72 7.72c-.78.78-.78 2.05 0 2.83L4 21.41c.39.39.9.59 1.41.59.51 0 1.02-.2 1.41-.59l7.78-7.78 2.81-2.81c.8-.78.8-2.07 0-2.86zM5.41 20L4 18.59l7.72-7.72 1.47 1.35L5.41 20z\"/>\n",
              "  </svg>\n",
              "      </button>\n",
              "      \n",
              "  <style>\n",
              "    .colab-df-container {\n",
              "      display:flex;\n",
              "      flex-wrap:wrap;\n",
              "      gap: 12px;\n",
              "    }\n",
              "\n",
              "    .colab-df-convert {\n",
              "      background-color: #E8F0FE;\n",
              "      border: none;\n",
              "      border-radius: 50%;\n",
              "      cursor: pointer;\n",
              "      display: none;\n",
              "      fill: #1967D2;\n",
              "      height: 32px;\n",
              "      padding: 0 0 0 0;\n",
              "      width: 32px;\n",
              "    }\n",
              "\n",
              "    .colab-df-convert:hover {\n",
              "      background-color: #E2EBFA;\n",
              "      box-shadow: 0px 1px 2px rgba(60, 64, 67, 0.3), 0px 1px 3px 1px rgba(60, 64, 67, 0.15);\n",
              "      fill: #174EA6;\n",
              "    }\n",
              "\n",
              "    [theme=dark] .colab-df-convert {\n",
              "      background-color: #3B4455;\n",
              "      fill: #D2E3FC;\n",
              "    }\n",
              "\n",
              "    [theme=dark] .colab-df-convert:hover {\n",
              "      background-color: #434B5C;\n",
              "      box-shadow: 0px 1px 3px 1px rgba(0, 0, 0, 0.15);\n",
              "      filter: drop-shadow(0px 1px 2px rgba(0, 0, 0, 0.3));\n",
              "      fill: #FFFFFF;\n",
              "    }\n",
              "  </style>\n",
              "\n",
              "      <script>\n",
              "        const buttonEl =\n",
              "          document.querySelector('#df-6c771218-12e5-4227-9ea0-03a731d11a8b button.colab-df-convert');\n",
              "        buttonEl.style.display =\n",
              "          google.colab.kernel.accessAllowed ? 'block' : 'none';\n",
              "\n",
              "        async function convertToInteractive(key) {\n",
              "          const element = document.querySelector('#df-6c771218-12e5-4227-9ea0-03a731d11a8b');\n",
              "          const dataTable =\n",
              "            await google.colab.kernel.invokeFunction('convertToInteractive',\n",
              "                                                     [key], {});\n",
              "          if (!dataTable) return;\n",
              "\n",
              "          const docLinkHtml = 'Like what you see? Visit the ' +\n",
              "            '<a target=\"_blank\" href=https://colab.research.google.com/notebooks/data_table.ipynb>data table notebook</a>'\n",
              "            + ' to learn more about interactive tables.';\n",
              "          element.innerHTML = '';\n",
              "          dataTable['output_type'] = 'display_data';\n",
              "          await google.colab.output.renderOutput(dataTable, element);\n",
              "          const docLink = document.createElement('div');\n",
              "          docLink.innerHTML = docLinkHtml;\n",
              "          element.appendChild(docLink);\n",
              "        }\n",
              "      </script>\n",
              "    </div>\n",
              "  </div>\n",
              "  "
            ]
          },
          "metadata": {},
          "execution_count": 56
        }
      ]
    },
    {
      "cell_type": "code",
      "source": [
        "df.isna().sum()"
      ],
      "metadata": {
        "colab": {
          "base_uri": "https://localhost:8080/"
        },
        "id": "wjwb8gToTCz2",
        "outputId": "c084be99-62b0-4d16-d048-103e621a0ebb"
      },
      "execution_count": 57,
      "outputs": [
        {
          "output_type": "execute_result",
          "data": {
            "text/plain": [
              "Company Name            0\n",
              "Role                    0\n",
              "Skills                  0\n",
              "Experience              0\n",
              "Job Description Link    0\n",
              "dtype: int64"
            ]
          },
          "metadata": {},
          "execution_count": 57
        }
      ]
    },
    {
      "cell_type": "code",
      "source": [
        "df['Role'].unique()"
      ],
      "metadata": {
        "colab": {
          "base_uri": "https://localhost:8080/"
        },
        "id": "6TEPSZcoTKel",
        "outputId": "eda488ec-7a6e-407e-d1af-b9cf336fa6d7"
      },
      "execution_count": 59,
      "outputs": [
        {
          "output_type": "execute_result",
          "data": {
            "text/plain": [
              "array(['Python Developer', 'Python Engineer', 'Python developer',\n",
              "       'Python Lead'], dtype=object)"
            ]
          },
          "metadata": {},
          "execution_count": 59
        }
      ]
    },
    {
      "cell_type": "code",
      "source": [
        "df['Role']=df['Role'].apply(lambda x: x.lower())\n",
        "df['Role'].value_counts()"
      ],
      "metadata": {
        "colab": {
          "base_uri": "https://localhost:8080/"
        },
        "id": "BwcPds_xT5Oy",
        "outputId": "2c24399b-23a9-482b-e8c5-aca6058fea12"
      },
      "execution_count": 64,
      "outputs": [
        {
          "output_type": "execute_result",
          "data": {
            "text/plain": [
              "python developer    342\n",
              "python engineer      19\n",
              "python lead          19\n",
              "Name: Role, dtype: int64"
            ]
          },
          "metadata": {},
          "execution_count": 64
        }
      ]
    },
    {
      "cell_type": "markdown",
      "source": [
        "### **Some visualization**"
      ],
      "metadata": {
        "id": "BVNwVQXdUYoF"
      }
    },
    {
      "cell_type": "code",
      "source": [
        "import matplotlib.pyplot as plt\n",
        "# no. of opening based on roles\n",
        "df['Role'].value_counts().plot()\n",
        "plt.xlabel('Job name')\n",
        "plt.ylabel('Number of opening')\n",
        "plt.show()"
      ],
      "metadata": {
        "colab": {
          "base_uri": "https://localhost:8080/",
          "height": 279
        },
        "id": "RjCWNJCJTPtl",
        "outputId": "c79899a8-88ef-4591-bd19-ad52f5c6e91e"
      },
      "execution_count": 95,
      "outputs": [
        {
          "output_type": "display_data",
          "data": {
            "text/plain": [
              "<Figure size 432x288 with 1 Axes>"
            ],
            "image/png": "[encoded data removed]"
          },
          "metadata": {
            "needs_background": "light"
          }
        }
      ]
    },
    {
      "cell_type": "code",
      "source": [
        "#experience required\n",
        "df['Experience']=df['Experience'].apply(lambda x:x.replace('yrs',\"\"))\n",
        "df['lower_experience']=df['Experience'].apply(lambda x: x.split('-')[0].strip())\n",
        "df['upper_experience']=df['Experience'].apply(lambda x: x.split('-')[1].strip())\n",
        "df.head()"
      ],
      "metadata": {
        "colab": {
          "base_uri": "https://localhost:8080/",
          "height": 250
        },
        "id": "FqTB7CizTyJO",
        "outputId": "eba44f63-e957-4113-967e-be3e0f97e250"
      },
      "execution_count": 68,
      "outputs": [
        {
          "output_type": "execute_result",
          "data": {
            "text/plain": [
              "                                 Company Name              Role  \\\n",
              "0              Doodleblue Innovations Pvt Ltd  python developer   \n",
              "1                              AxisTechnolabs  python developer   \n",
              "2  pegasus knowledge solutions india pvt ltd.  python developer   \n",
              "3                           Techasoft Pvt Ltd  python developer   \n",
              "4                tarams software technologies  python developer   \n",
              "\n",
              "                                              Skills Experience  \\\n",
              "0  python  ,  database  ,  django  ,  git  ,  htm...     0 - 3    \n",
              "1  python  ,  css  ,  user interaction  ,  bootst...     0 - 1    \n",
              "2  python  ,  css  ,  django  ,  java  ,  html  ,...     0 - 3    \n",
              "3  python  ,  javascript  ,  docker  ,  django  ,...     0 - 3    \n",
              "4  python  ,  rdbms  ,  web based applications  ,...     4 - 7    \n",
              "\n",
              "                                Job Description Link lower_experience  \\\n",
              "0  https://www.timesjobs.com/job-detail/python-de...                0   \n",
              "1  https://www.timesjobs.com/job-detail/python-de...                0   \n",
              "2  https://www.timesjobs.com/job-detail/python-de...                0   \n",
              "3  https://www.timesjobs.com/job-detail/python-de...                0   \n",
              "4  https://www.timesjobs.com/job-detail/python-de...                4   \n",
              "\n",
              "  upper_experience  \n",
              "0                3  \n",
              "1                1  \n",
              "2                3  \n",
              "3                3  \n",
              "4                7  "
            ],
            "text/html": [
              "\n",
              "  <div id=\"df-a00e6191-f267-42db-949d-670c060d2e8a\">\n",
              "    <div class=\"colab-df-container\">\n",
              "      <div>\n",
              "<style scoped>\n",
              "    .dataframe tbody tr th:only-of-type {\n",
              "        vertical-align: middle;\n",
              "    }\n",
              "\n",
              "    .dataframe tbody tr th {\n",
              "        vertical-align: top;\n",
              "    }\n",
              "\n",
              "    .dataframe thead th {\n",
              "        text-align: right;\n",
              "    }\n",
              "</style>\n",
              "<table border=\"1\" class=\"dataframe\">\n",
              "  <thead>\n",
              "    <tr style=\"text-align: right;\">\n",
              "      <th></th>\n",
              "      <th>Company Name</th>\n",
              "      <th>Role</th>\n",
              "      <th>Skills</th>\n",
              "      <th>Experience</th>\n",
              "      <th>Job Description Link</th>\n",
              "      <th>lower_experience</th>\n",
              "      <th>upper_experience</th>\n",
              "    </tr>\n",
              "  </thead>\n",
              "  <tbody>\n",
              "    <tr>\n",
              "      <th>0</th>\n",
              "      <td>Doodleblue Innovations Pvt Ltd</td>\n",
              "      <td>python developer</td>\n",
              "      <td>python  ,  database  ,  django  ,  git  ,  htm...</td>\n",
              "      <td>0 - 3</td>\n",
              "      <td>https://www.timesjobs.com/job-detail/python-de...</td>\n",
              "      <td>0</td>\n",
              "      <td>3</td>\n",
              "    </tr>\n",
              "    <tr>\n",
              "      <th>1</th>\n",
              "      <td>AxisTechnolabs</td>\n",
              "      <td>python developer</td>\n",
              "      <td>python  ,  css  ,  user interaction  ,  bootst...</td>\n",
              "      <td>0 - 1</td>\n",
              "      <td>https://www.timesjobs.com/job-detail/python-de...</td>\n",
              "      <td>0</td>\n",
              "      <td>1</td>\n",
              "    </tr>\n",
              "    <tr>\n",
              "      <th>2</th>\n",
              "      <td>pegasus knowledge solutions india pvt ltd.</td>\n",
              "      <td>python developer</td>\n",
              "      <td>python  ,  css  ,  django  ,  java  ,  html  ,...</td>\n",
              "      <td>0 - 3</td>\n",
              "      <td>https://www.timesjobs.com/job-detail/python-de...</td>\n",
              "      <td>0</td>\n",
              "      <td>3</td>\n",
              "    </tr>\n",
              "    <tr>\n",
              "      <th>3</th>\n",
              "      <td>Techasoft Pvt Ltd</td>\n",
              "      <td>python developer</td>\n",
              "      <td>python  ,  javascript  ,  docker  ,  django  ,...</td>\n",
              "      <td>0 - 3</td>\n",
              "      <td>https://www.timesjobs.com/job-detail/python-de...</td>\n",
              "      <td>0</td>\n",
              "      <td>3</td>\n",
              "    </tr>\n",
              "    <tr>\n",
              "      <th>4</th>\n",
              "      <td>tarams software technologies</td>\n",
              "      <td>python developer</td>\n",
              "      <td>python  ,  rdbms  ,  web based applications  ,...</td>\n",
              "      <td>4 - 7</td>\n",
              "      <td>https://www.timesjobs.com/job-detail/python-de...</td>\n",
              "      <td>4</td>\n",
              "      <td>7</td>\n",
              "    </tr>\n",
              "  </tbody>\n",
              "</table>\n",
              "</div>\n",
              "      <button class=\"colab-df-convert\" onclick=\"convertToInteractive('df-a00e6191-f267-42db-949d-670c060d2e8a')\"\n",
              "              title=\"Convert this dataframe to an interactive table.\"\n",
              "              style=\"display:none;\">\n",
              "        \n",
              "  <svg xmlns=\"http://www.w3.org/2000/svg\" height=\"24px\"viewBox=\"0 0 24 24\"\n",
              "       width=\"24px\">\n",
              "    <path d=\"M0 0h24v24H0V0z\" fill=\"none\"/>\n",
              "    <path d=\"M18.56 5.44l.94 2.06.94-2.06 2.06-.94-2.06-.94-.94-2.06-.94 2.06-2.06.94zm-11 1L8.5 8.5l.94-2.06 2.06-.94-2.06-.94L8.5 2.5l-.94 2.06-2.06.94zm10 10l.94 2.06.94-2.06 2.06-.94-2.06-.94-.94-2.06-.94 2.06-2.06.94z\"/><path d=\"M17.41 7.96l-1.37-1.37c-.4-.4-.92-.59-1.43-.59-.52 0-1.04.2-1.43.59L10.3 9.45l-7.72 7.72c-.78.78-.78 2.05 0 2.83L4 21.41c.39.39.9.59 1.41.59.51 0 1.02-.2 1.41-.59l7.78-7.78 2.81-2.81c.8-.78.8-2.07 0-2.86zM5.41 20L4 18.59l7.72-7.72 1.47 1.35L5.41 20z\"/>\n",
              "  </svg>\n",
              "      </button>\n",
              "      \n",
              "  <style>\n",
              "    .colab-df-container {\n",
              "      display:flex;\n",
              "      flex-wrap:wrap;\n",
              "      gap: 12px;\n",
              "    }\n",
              "\n",
              "    .colab-df-convert {\n",
              "      background-color: #E8F0FE;\n",
              "      border: none;\n",
              "      border-radius: 50%;\n",
              "      cursor: pointer;\n",
              "      display: none;\n",
              "      fill: #1967D2;\n",
              "      height: 32px;\n",
              "      padding: 0 0 0 0;\n",
              "      width: 32px;\n",
              "    }\n",
              "\n",
              "    .colab-df-convert:hover {\n",
              "      background-color: #E2EBFA;\n",
              "      box-shadow: 0px 1px 2px rgba(60, 64, 67, 0.3), 0px 1px 3px 1px rgba(60, 64, 67, 0.15);\n",
              "      fill: #174EA6;\n",
              "    }\n",
              "\n",
              "    [theme=dark] .colab-df-convert {\n",
              "      background-color: #3B4455;\n",
              "      fill: #D2E3FC;\n",
              "    }\n",
              "\n",
              "    [theme=dark] .colab-df-convert:hover {\n",
              "      background-color: #434B5C;\n",
              "      box-shadow: 0px 1px 3px 1px rgba(0, 0, 0, 0.15);\n",
              "      filter: drop-shadow(0px 1px 2px rgba(0, 0, 0, 0.3));\n",
              "      fill: #FFFFFF;\n",
              "    }\n",
              "  </style>\n",
              "\n",
              "      <script>\n",
              "        const buttonEl =\n",
              "          document.querySelector('#df-a00e6191-f267-42db-949d-670c060d2e8a button.colab-df-convert');\n",
              "        buttonEl.style.display =\n",
              "          google.colab.kernel.accessAllowed ? 'block' : 'none';\n",
              "\n",
              "        async function convertToInteractive(key) {\n",
              "          const element = document.querySelector('#df-a00e6191-f267-42db-949d-670c060d2e8a');\n",
              "          const dataTable =\n",
              "            await google.colab.kernel.invokeFunction('convertToInteractive',\n",
              "                                                     [key], {});\n",
              "          if (!dataTable) return;\n",
              "\n",
              "          const docLinkHtml = 'Like what you see? Visit the ' +\n",
              "            '<a target=\"_blank\" href=https://colab.research.google.com/notebooks/data_table.ipynb>data table notebook</a>'\n",
              "            + ' to learn more about interactive tables.';\n",
              "          element.innerHTML = '';\n",
              "          dataTable['output_type'] = 'display_data';\n",
              "          await google.colab.output.renderOutput(dataTable, element);\n",
              "          const docLink = document.createElement('div');\n",
              "          docLink.innerHTML = docLinkHtml;\n",
              "          element.appendChild(docLink);\n",
              "        }\n",
              "      </script>\n",
              "    </div>\n",
              "  </div>\n",
              "  "
            ]
          },
          "metadata": {},
          "execution_count": 68
        }
      ]
    },
    {
      "cell_type": "code",
      "source": [
        "df['lower_experience'].value_counts().reset_index().rename(columns={'index':'Experience','lower_experience':'Number of opening'})"
      ],
      "metadata": {
        "colab": {
          "base_uri": "https://localhost:8080/",
          "height": 300
        },
        "id": "Su5h5abJVdgt",
        "outputId": "6e8ca1a9-ea22-4f16-efe2-5a72a0fa08e5"
      },
      "execution_count": 73,
      "outputs": [
        {
          "output_type": "execute_result",
          "data": {
            "text/plain": [
              "  Experience  Number of opening\n",
              "0          0                133\n",
              "1          2                 95\n",
              "2          1                 57\n",
              "3          4                 19\n",
              "4          5                 19\n",
              "5          3                 19\n",
              "6          8                 19\n",
              "7          7                 19"
            ],
            "text/html": [
              "\n",
              "  <div id=\"df-5e57623e-9d73-4953-b68d-05e1de286fdc\">\n",
              "    <div class=\"colab-df-container\">\n",
              "      <div>\n",
              "<style scoped>\n",
              "    .dataframe tbody tr th:only-of-type {\n",
              "        vertical-align: middle;\n",
              "    }\n",
              "\n",
              "    .dataframe tbody tr th {\n",
              "        vertical-align: top;\n",
              "    }\n",
              "\n",
              "    .dataframe thead th {\n",
              "        text-align: right;\n",
              "    }\n",
              "</style>\n",
              "<table border=\"1\" class=\"dataframe\">\n",
              "  <thead>\n",
              "    <tr style=\"text-align: right;\">\n",
              "      <th></th>\n",
              "      <th>Experience</th>\n",
              "      <th>Number of opening</th>\n",
              "    </tr>\n",
              "  </thead>\n",
              "  <tbody>\n",
              "    <tr>\n",
              "      <th>0</th>\n",
              "      <td>0</td>\n",
              "      <td>133</td>\n",
              "    </tr>\n",
              "    <tr>\n",
              "      <th>1</th>\n",
              "      <td>2</td>\n",
              "      <td>95</td>\n",
              "    </tr>\n",
              "    <tr>\n",
              "      <th>2</th>\n",
              "      <td>1</td>\n",
              "      <td>57</td>\n",
              "    </tr>\n",
              "    <tr>\n",
              "      <th>3</th>\n",
              "      <td>4</td>\n",
              "      <td>19</td>\n",
              "    </tr>\n",
              "    <tr>\n",
              "      <th>4</th>\n",
              "      <td>5</td>\n",
              "      <td>19</td>\n",
              "    </tr>\n",
              "    <tr>\n",
              "      <th>5</th>\n",
              "      <td>3</td>\n",
              "      <td>19</td>\n",
              "    </tr>\n",
              "    <tr>\n",
              "      <th>6</th>\n",
              "      <td>8</td>\n",
              "      <td>19</td>\n",
              "    </tr>\n",
              "    <tr>\n",
              "      <th>7</th>\n",
              "      <td>7</td>\n",
              "      <td>19</td>\n",
              "    </tr>\n",
              "  </tbody>\n",
              "</table>\n",
              "</div>\n",
              "      <button class=\"colab-df-convert\" onclick=\"convertToInteractive('df-5e57623e-9d73-4953-b68d-05e1de286fdc')\"\n",
              "              title=\"Convert this dataframe to an interactive table.\"\n",
              "              style=\"display:none;\">\n",
              "        \n",
              "  <svg xmlns=\"http://www.w3.org/2000/svg\" height=\"24px\"viewBox=\"0 0 24 24\"\n",
              "       width=\"24px\">\n",
              "    <path d=\"M0 0h24v24H0V0z\" fill=\"none\"/>\n",
              "    <path d=\"M18.56 5.44l.94 2.06.94-2.06 2.06-.94-2.06-.94-.94-2.06-.94 2.06-2.06.94zm-11 1L8.5 8.5l.94-2.06 2.06-.94-2.06-.94L8.5 2.5l-.94 2.06-2.06.94zm10 10l.94 2.06.94-2.06 2.06-.94-2.06-.94-.94-2.06-.94 2.06-2.06.94z\"/><path d=\"M17.41 7.96l-1.37-1.37c-.4-.4-.92-.59-1.43-.59-.52 0-1.04.2-1.43.59L10.3 9.45l-7.72 7.72c-.78.78-.78 2.05 0 2.83L4 21.41c.39.39.9.59 1.41.59.51 0 1.02-.2 1.41-.59l7.78-7.78 2.81-2.81c.8-.78.8-2.07 0-2.86zM5.41 20L4 18.59l7.72-7.72 1.47 1.35L5.41 20z\"/>\n",
              "  </svg>\n",
              "      </button>\n",
              "      \n",
              "  <style>\n",
              "    .colab-df-container {\n",
              "      display:flex;\n",
              "      flex-wrap:wrap;\n",
              "      gap: 12px;\n",
              "    }\n",
              "\n",
              "    .colab-df-convert {\n",
              "      background-color: #E8F0FE;\n",
              "      border: none;\n",
              "      border-radius: 50%;\n",
              "      cursor: pointer;\n",
              "      display: none;\n",
              "      fill: #1967D2;\n",
              "      height: 32px;\n",
              "      padding: 0 0 0 0;\n",
              "      width: 32px;\n",
              "    }\n",
              "\n",
              "    .colab-df-convert:hover {\n",
              "      background-color: #E2EBFA;\n",
              "      box-shadow: 0px 1px 2px rgba(60, 64, 67, 0.3), 0px 1px 3px 1px rgba(60, 64, 67, 0.15);\n",
              "      fill: #174EA6;\n",
              "    }\n",
              "\n",
              "    [theme=dark] .colab-df-convert {\n",
              "      background-color: #3B4455;\n",
              "      fill: #D2E3FC;\n",
              "    }\n",
              "\n",
              "    [theme=dark] .colab-df-convert:hover {\n",
              "      background-color: #434B5C;\n",
              "      box-shadow: 0px 1px 3px 1px rgba(0, 0, 0, 0.15);\n",
              "      filter: drop-shadow(0px 1px 2px rgba(0, 0, 0, 0.3));\n",
              "      fill: #FFFFFF;\n",
              "    }\n",
              "  </style>\n",
              "\n",
              "      <script>\n",
              "        const buttonEl =\n",
              "          document.querySelector('#df-5e57623e-9d73-4953-b68d-05e1de286fdc button.colab-df-convert');\n",
              "        buttonEl.style.display =\n",
              "          google.colab.kernel.accessAllowed ? 'block' : 'none';\n",
              "\n",
              "        async function convertToInteractive(key) {\n",
              "          const element = document.querySelector('#df-5e57623e-9d73-4953-b68d-05e1de286fdc');\n",
              "          const dataTable =\n",
              "            await google.colab.kernel.invokeFunction('convertToInteractive',\n",
              "                                                     [key], {});\n",
              "          if (!dataTable) return;\n",
              "\n",
              "          const docLinkHtml = 'Like what you see? Visit the ' +\n",
              "            '<a target=\"_blank\" href=https://colab.research.google.com/notebooks/data_table.ipynb>data table notebook</a>'\n",
              "            + ' to learn more about interactive tables.';\n",
              "          element.innerHTML = '';\n",
              "          dataTable['output_type'] = 'display_data';\n",
              "          await google.colab.output.renderOutput(dataTable, element);\n",
              "          const docLink = document.createElement('div');\n",
              "          docLink.innerHTML = docLinkHtml;\n",
              "          element.appendChild(docLink);\n",
              "        }\n",
              "      </script>\n",
              "    </div>\n",
              "  </div>\n",
              "  "
            ]
          },
          "metadata": {},
          "execution_count": 73
        }
      ]
    },
    {
      "cell_type": "code",
      "source": [
        "import matplotlib.pyplot as plt\n",
        "df['lower_experience'].value_counts().plot()\n",
        "plt.xlabel('Experience')\n",
        "plt.ylabel('Number of opening')\n",
        "plt.show()"
      ],
      "metadata": {
        "colab": {
          "base_uri": "https://localhost:8080/",
          "height": 279
        },
        "id": "Vl1q-yBOWKHF",
        "outputId": "4ea341dc-e60a-49f8-c335-8d16ce5fe956"
      },
      "execution_count": 94,
      "outputs": [
        {
          "output_type": "display_data",
          "data": {
            "text/plain": [
              "<Figure size 432x288 with 1 Axes>"
            ],
            "image/png": "[encoded data removed]"
          },
          "metadata": {
            "needs_background": "light"
          }
        }
      ]
    },
    {
      "cell_type": "code",
      "source": [
        "#getting most common skill\n",
        "all_skills=[]\n",
        "df['Skills'].apply(lambda x : all_skills.extend(x.split(',')))"
      ],
      "metadata": {
        "id": "zm8JbD6oXDuu"
      },
      "execution_count": null,
      "outputs": []
    },
    {
      "cell_type": "code",
      "source": [
        "c=[]\n",
        "for skills in all_skills:\n",
        "  c.append(skills.strip()) "
      ],
      "metadata": {
        "id": "PvLUuoa5YFar"
      },
      "execution_count": 87,
      "outputs": []
    },
    {
      "cell_type": "code",
      "source": [
        "from collections import Counter\n",
        "skills_demand=Counter(c)"
      ],
      "metadata": {
        "id": "pLU6DLScYsYS"
      },
      "execution_count": 92,
      "outputs": []
    },
    {
      "cell_type": "code",
      "source": [
        "skills_demand.most_common(10)"
      ],
      "metadata": {
        "colab": {
          "base_uri": "https://localhost:8080/"
        },
        "id": "ns2VtAFTZgfZ",
        "outputId": "62a03ae2-34bc-4254-a07a-dcdd7edbc876"
      },
      "execution_count": 93,
      "outputs": [
        {
          "output_type": "execute_result",
          "data": {
            "text/plain": [
              "[('python', 380),\n",
              " ('django', 247),\n",
              " ('git', 152),\n",
              " ('javascript', 133),\n",
              " ('database', 114),\n",
              " ('team player', 95),\n",
              " ('html5', 76),\n",
              " ('html', 76),\n",
              " ('postgresql', 76),\n",
              " ('mysql', 76)]"
            ]
          },
          "metadata": {},
          "execution_count": 93
        }
      ]
    },
    {
      "cell_type": "markdown",
      "source": [
        "### **Saving the data as excel file**"
      ],
      "metadata": {
        "id": "OecEQwOAa_bj"
      }
    },
    {
      "cell_type": "code",
      "source": [
        "df.to_excel('job.xlsx')"
      ],
      "metadata": {
        "id": "4dFenZZfZ18K"
      },
      "execution_count": 96,
      "outputs": []
    },
    {
      "cell_type": "code",
      "source": [
        "df.head()"
      ],
      "metadata": {
        "colab": {
          "base_uri": "https://localhost:8080/",
          "height": 250
        },
        "id": "LPglekdsbN8S",
        "outputId": "8fb76bc2-1e11-4b8d-d499-ee7c26829e1a"
      },
      "execution_count": 97,
      "outputs": [
        {
          "output_type": "execute_result",
          "data": {
            "text/plain": [
              "                                 Company Name              Role  \\\n",
              "0              Doodleblue Innovations Pvt Ltd  python developer   \n",
              "1                              AxisTechnolabs  python developer   \n",
              "2  pegasus knowledge solutions india pvt ltd.  python developer   \n",
              "3                           Techasoft Pvt Ltd  python developer   \n",
              "4                tarams software technologies  python developer   \n",
              "\n",
              "                                              Skills Experience  \\\n",
              "0  python  ,  database  ,  django  ,  git  ,  htm...     0 - 3    \n",
              "1  python  ,  css  ,  user interaction  ,  bootst...     0 - 1    \n",
              "2  python  ,  css  ,  django  ,  java  ,  html  ,...     0 - 3    \n",
              "3  python  ,  javascript  ,  docker  ,  django  ,...     0 - 3    \n",
              "4  python  ,  rdbms  ,  web based applications  ,...     4 - 7    \n",
              "\n",
              "                                Job Description Link lower_experience  \\\n",
              "0  https://www.timesjobs.com/job-detail/python-de...                0   \n",
              "1  https://www.timesjobs.com/job-detail/python-de...                0   \n",
              "2  https://www.timesjobs.com/job-detail/python-de...                0   \n",
              "3  https://www.timesjobs.com/job-detail/python-de...                0   \n",
              "4  https://www.timesjobs.com/job-detail/python-de...                4   \n",
              "\n",
              "  upper_experience  \n",
              "0                3  \n",
              "1                1  \n",
              "2                3  \n",
              "3                3  \n",
              "4                7  "
            ],
            "text/html": [
              "\n",
              "  <div id=\"df-7758f5da-90fb-4e67-9d18-824ef8c8e634\">\n",
              "    <div class=\"colab-df-container\">\n",
              "      <div>\n",
              "<style scoped>\n",
              "    .dataframe tbody tr th:only-of-type {\n",
              "        vertical-align: middle;\n",
              "    }\n",
              "\n",
              "    .dataframe tbody tr th {\n",
              "        vertical-align: top;\n",
              "    }\n",
              "\n",
              "    .dataframe thead th {\n",
              "        text-align: right;\n",
              "    }\n",
              "</style>\n",
              "<table border=\"1\" class=\"dataframe\">\n",
              "  <thead>\n",
              "    <tr style=\"text-align: right;\">\n",
              "      <th></th>\n",
              "      <th>Company Name</th>\n",
              "      <th>Role</th>\n",
              "      <th>Skills</th>\n",
              "      <th>Experience</th>\n",
              "      <th>Job Description Link</th>\n",
              "      <th>lower_experience</th>\n",
              "      <th>upper_experience</th>\n",
              "    </tr>\n",
              "  </thead>\n",
              "  <tbody>\n",
              "    <tr>\n",
              "      <th>0</th>\n",
              "      <td>Doodleblue Innovations Pvt Ltd</td>\n",
              "      <td>python developer</td>\n",
              "      <td>python  ,  database  ,  django  ,  git  ,  htm...</td>\n",
              "      <td>0 - 3</td>\n",
              "      <td>https://www.timesjobs.com/job-detail/python-de...</td>\n",
              "      <td>0</td>\n",
              "      <td>3</td>\n",
              "    </tr>\n",
              "    <tr>\n",
              "      <th>1</th>\n",
              "      <td>AxisTechnolabs</td>\n",
              "      <td>python developer</td>\n",
              "      <td>python  ,  css  ,  user interaction  ,  bootst...</td>\n",
              "      <td>0 - 1</td>\n",
              "      <td>https://www.timesjobs.com/job-detail/python-de...</td>\n",
              "      <td>0</td>\n",
              "      <td>1</td>\n",
              "    </tr>\n",
              "    <tr>\n",
              "      <th>2</th>\n",
              "      <td>pegasus knowledge solutions india pvt ltd.</td>\n",
              "      <td>python developer</td>\n",
              "      <td>python  ,  css  ,  django  ,  java  ,  html  ,...</td>\n",
              "      <td>0 - 3</td>\n",
              "      <td>https://www.timesjobs.com/job-detail/python-de...</td>\n",
              "      <td>0</td>\n",
              "      <td>3</td>\n",
              "    </tr>\n",
              "    <tr>\n",
              "      <th>3</th>\n",
              "      <td>Techasoft Pvt Ltd</td>\n",
              "      <td>python developer</td>\n",
              "      <td>python  ,  javascript  ,  docker  ,  django  ,...</td>\n",
              "      <td>0 - 3</td>\n",
              "      <td>https://www.timesjobs.com/job-detail/python-de...</td>\n",
              "      <td>0</td>\n",
              "      <td>3</td>\n",
              "    </tr>\n",
              "    <tr>\n",
              "      <th>4</th>\n",
              "      <td>tarams software technologies</td>\n",
              "      <td>python developer</td>\n",
              "      <td>python  ,  rdbms  ,  web based applications  ,...</td>\n",
              "      <td>4 - 7</td>\n",
              "      <td>https://www.timesjobs.com/job-detail/python-de...</td>\n",
              "      <td>4</td>\n",
              "      <td>7</td>\n",
              "    </tr>\n",
              "  </tbody>\n",
              "</table>\n",
              "</div>\n",
              "      <button class=\"colab-df-convert\" onclick=\"convertToInteractive('df-7758f5da-90fb-4e67-9d18-824ef8c8e634')\"\n",
              "              title=\"Convert this dataframe to an interactive table.\"\n",
              "              style=\"display:none;\">\n",
              "        \n",
              "  <svg xmlns=\"http://www.w3.org/2000/svg\" height=\"24px\"viewBox=\"0 0 24 24\"\n",
              "       width=\"24px\">\n",
              "    <path d=\"M0 0h24v24H0V0z\" fill=\"none\"/>\n",
              "    <path d=\"M18.56 5.44l.94 2.06.94-2.06 2.06-.94-2.06-.94-.94-2.06-.94 2.06-2.06.94zm-11 1L8.5 8.5l.94-2.06 2.06-.94-2.06-.94L8.5 2.5l-.94 2.06-2.06.94zm10 10l.94 2.06.94-2.06 2.06-.94-2.06-.94-.94-2.06-.94 2.06-2.06.94z\"/><path d=\"M17.41 7.96l-1.37-1.37c-.4-.4-.92-.59-1.43-.59-.52 0-1.04.2-1.43.59L10.3 9.45l-7.72 7.72c-.78.78-.78 2.05 0 2.83L4 21.41c.39.39.9.59 1.41.59.51 0 1.02-.2 1.41-.59l7.78-7.78 2.81-2.81c.8-.78.8-2.07 0-2.86zM5.41 20L4 18.59l7.72-7.72 1.47 1.35L5.41 20z\"/>\n",
              "  </svg>\n",
              "      </button>\n",
              "      \n",
              "  <style>\n",
              "    .colab-df-container {\n",
              "      display:flex;\n",
              "      flex-wrap:wrap;\n",
              "      gap: 12px;\n",
              "    }\n",
              "\n",
              "    .colab-df-convert {\n",
              "      background-color: #E8F0FE;\n",
              "      border: none;\n",
              "      border-radius: 50%;\n",
              "      cursor: pointer;\n",
              "      display: none;\n",
              "      fill: #1967D2;\n",
              "      height: 32px;\n",
              "      padding: 0 0 0 0;\n",
              "      width: 32px;\n",
              "    }\n",
              "\n",
              "    .colab-df-convert:hover {\n",
              "      background-color: #E2EBFA;\n",
              "      box-shadow: 0px 1px 2px rgba(60, 64, 67, 0.3), 0px 1px 3px 1px rgba(60, 64, 67, 0.15);\n",
              "      fill: #174EA6;\n",
              "    }\n",
              "\n",
              "    [theme=dark] .colab-df-convert {\n",
              "      background-color: #3B4455;\n",
              "      fill: #D2E3FC;\n",
              "    }\n",
              "\n",
              "    [theme=dark] .colab-df-convert:hover {\n",
              "      background-color: #434B5C;\n",
              "      box-shadow: 0px 1px 3px 1px rgba(0, 0, 0, 0.15);\n",
              "      filter: drop-shadow(0px 1px 2px rgba(0, 0, 0, 0.3));\n",
              "      fill: #FFFFFF;\n",
              "    }\n",
              "  </style>\n",
              "\n",
              "      <script>\n",
              "        const buttonEl =\n",
              "          document.querySelector('#df-7758f5da-90fb-4e67-9d18-824ef8c8e634 button.colab-df-convert');\n",
              "        buttonEl.style.display =\n",
              "          google.colab.kernel.accessAllowed ? 'block' : 'none';\n",
              "\n",
              "        async function convertToInteractive(key) {\n",
              "          const element = document.querySelector('#df-7758f5da-90fb-4e67-9d18-824ef8c8e634');\n",
              "          const dataTable =\n",
              "            await google.colab.kernel.invokeFunction('convertToInteractive',\n",
              "                                                     [key], {});\n",
              "          if (!dataTable) return;\n",
              "\n",
              "          const docLinkHtml = 'Like what you see? Visit the ' +\n",
              "            '<a target=\"_blank\" href=https://colab.research.google.com/notebooks/data_table.ipynb>data table notebook</a>'\n",
              "            + ' to learn more about interactive tables.';\n",
              "          element.innerHTML = '';\n",
              "          dataTable['output_type'] = 'display_data';\n",
              "          await google.colab.output.renderOutput(dataTable, element);\n",
              "          const docLink = document.createElement('div');\n",
              "          docLink.innerHTML = docLinkHtml;\n",
              "          element.appendChild(docLink);\n",
              "        }\n",
              "      </script>\n",
              "    </div>\n",
              "  </div>\n",
              "  "
            ]
          },
          "metadata": {},
          "execution_count": 97
        }
      ]
    },
    {
      "cell_type": "code",
      "source": [],
      "metadata": {
        "id": "9BjBNkZCbmzh"
      },
      "execution_count": null,
      "outputs": []
    }
  ]
}